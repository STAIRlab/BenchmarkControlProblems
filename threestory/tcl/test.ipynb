{
 "cells": [
  {
   "cell_type": "code",
   "execution_count": 2,
   "metadata": {},
   "outputs": [],
   "source": [
    "import opensees as ops\n",
    "import numpy as np\n",
    "import scipy.linalg as slin\n",
    "\n",
    "ops.database('File','C:\\\\Users\\\\AETL\\\\Documents\\\\GitHub\\\\OpenSeesScript\\\\Ohtori3Story\\\\model\\\\tcl\\\\save\\\\3story')\n",
    "ops.restore(1)"
   ]
  },
  {
   "cell_type": "code",
   "execution_count": 3,
   "metadata": {},
   "outputs": [
    {
     "name": "stderr",
     "output_type": "stream",
     "text": [
      "WARNING analysis Transient - no Algorithm yet specified, \n",
      " NewtonRaphson default will be used\n",
      "WARNING analysis Transient - no Numberer specified, \n",
      " RCM default will be used\n",
      "WARNING analysis Transient - no Integrator specified, \n",
      " TransientIntegrator default will be used\n",
      "WARNING analysis Transient - no Algorithm yet specified, \n",
      " NewtonRaphson default will be used\n",
      "WARNING analysis Transient - no Numberer specified, \n",
      " RCM default will be used\n",
      "WARNING analysis Transient - no Integrator specified, \n",
      " TransientIntegrator default will be used\n",
      "WARNING analysis Transient - no Algorithm yet specified, \n",
      " NewtonRaphson default will be used\n",
      "WARNING analysis Transient - no Numberer specified, \n",
      " RCM default will be used\n",
      "WARNING analysis Transient - no Integrator specified, \n",
      " TransientIntegrator default will be used\n"
     ]
    }
   ],
   "source": [
    "ops.wipeAnalysis()\n",
    "ops.constraints('Transformation')\n",
    "ops.system('FullGeneral')\n",
    "ops.analysis('Transient')\n",
    "# Mass\n",
    "ops.integrator('GimmeMCK',1.0,0.0,0.0)\n",
    "ops.analyze(1,0.0)\n",
    " \n",
    "# Number of equations in the model\n",
    "N = ops.systemSize() # Has to be done after analyze\n",
    " \n",
    "M = ops.printA('-ret') # Or use ops.printA('-file','M.out')\n",
    "M = np.array(M) # Convert the list to an array\n",
    "M.shape = (N,N) # Make the array an NxN matrix\n",
    " \n",
    "# Stiffness\n",
    "ops.wipeAnalysis()\n",
    "ops.constraints('Transformation')\n",
    "ops.system('FullGeneral')\n",
    "ops.analysis('Transient')\n",
    "\n",
    "\n",
    "ops.integrator('GimmeMCK',0.0,0.0,1.0)\n",
    "ops.analyze(1,0.0)\n",
    "K = ops.printA('-ret')\n",
    "K = np.array(K)\n",
    "K.shape = (N,N)\n",
    " \n",
    "# Damping\n",
    "ops.wipeAnalysis()\n",
    "ops.constraints('Transformation')\n",
    "ops.system('FullGeneral')\n",
    "ops.analysis('Transient')\n",
    "\n",
    "ops.integrator('GimmeMCK',0.0,1.0,0.0)\n",
    "ops.analyze(1,0.0)\n",
    "C = ops.printA('-ret')\n",
    "C = np.array(C)\n",
    "C.shape = (N,N)"
   ]
  },
  {
   "cell_type": "code",
   "execution_count": 4,
   "metadata": {},
   "outputs": [],
   "source": [
    "np.savetxt('TcLM.txt',M)\n",
    "np.savetxt('TcLC.txt',C)\n",
    "np.savetxt('TcLK.txt',K)"
   ]
  }
 ],
 "metadata": {
  "kernelspec": {
   "display_name": "Python 3.9.12 64-bit ('anaconda3')",
   "language": "python",
   "name": "python3"
  },
  "language_info": {
   "codemirror_mode": {
    "name": "ipython",
    "version": 3
   },
   "file_extension": ".py",
   "mimetype": "text/x-python",
   "name": "python",
   "nbconvert_exporter": "python",
   "pygments_lexer": "ipython3",
   "version": "3.9.12"
  },
  "orig_nbformat": 4,
  "vscode": {
   "interpreter": {
    "hash": "56870988b6b74848acce5a89c59bf99410709c70b5d54e0e09353d1e1386d788"
   }
  }
 },
 "nbformat": 4,
 "nbformat_minor": 2
}
